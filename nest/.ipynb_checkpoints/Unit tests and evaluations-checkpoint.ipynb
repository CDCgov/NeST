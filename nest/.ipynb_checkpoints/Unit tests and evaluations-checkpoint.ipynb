{
 "cells": [
  {
   "cell_type": "markdown",
   "metadata": {},
   "source": [
    "## Reader"
   ]
  },
  {
   "cell_type": "code",
   "execution_count": null,
   "metadata": {},
   "outputs": [],
   "source": [
    "import os\n",
    "import time\n",
    "import timeit\n",
    "import vcf\n",
    "from pprint import pprint\n",
    "from nest.parsers.vcfReader import Reader\n",
    "from nest.parsers.vcf import Vcf"
   ]
  },
  {
   "cell_type": "code",
   "execution_count": null,
   "metadata": {},
   "outputs": [],
   "source": [
    "vcf_reader = Reader('local/tmp_freebayes_gatk.vcf')\n",
    "samples = 0\n",
    "lines = 0\n",
    "vcf_reader.readheader()\n",
    "for records in vcf_reader.readvcf():\n",
    "    print(records.CHROM, records.UID)\n"
   ]
  },
  {
   "cell_type": "code",
   "execution_count": null,
   "metadata": {},
   "outputs": [],
   "source": [
    "def bareread():\n",
    "    vcf_reader = open('local/MaRS_test/SRR6463548/SRR6463548_variants_merged_annotated.vcf')\n",
    "    lines = 0\n",
    "    for line in vcf_reader:\n",
    "        if line[0] == '#':\n",
    "            continue\n",
    "        else:\n",
    "            lines += 1\n",
    "\n",
    "%timeit -r 5 -n 1000 bareread()"
   ]
  },
  {
   "cell_type": "code",
   "execution_count": null,
   "metadata": {},
   "outputs": [],
   "source": [
    "def oldread():\n",
    "    lines =0 \n",
    "    vcf_reader = Vcf.Reader('local/MaRS_test/SRR6463548/SRR6463548_variants_merged_annotated.vcf').read()\n",
    "    for line in vcf_reader:\n",
    "        lines += 1\n",
    "        \n",
    "%timeit -r 5 -n 1000 oldread()  "
   ]
  },
  {
   "cell_type": "code",
   "execution_count": null,
   "metadata": {},
   "outputs": [],
   "source": [
    "def pyvcf():\n",
    "    vcf_reader = vcf.Reader(filename='local/MaRS_test/SRR6463548/SRR6463548_variants_merged_annotated.vcf')\n",
    "    lines = 0\n",
    "    for records in vcf_reader:\n",
    "        lines += 1\n",
    "\n",
    "%timeit -r 5 -n 1000 pyvcf()"
   ]
  },
  {
   "cell_type": "code",
   "execution_count": null,
   "metadata": {},
   "outputs": [],
   "source": [
    "for key, value in vcf_reader.header.items():\n",
    "    print('Heading category : {0}'.format(key))\n",
    "    if key == 'fileFormat':\n",
    "        print(value)\n",
    "    elif key == 'info':\n",
    "        for data in value:\n",
    "            print(data.id, data.number, data.type, data.description, data.version, data.source)\n",
    "    elif key == 'filter':\n",
    "        for data in value:\n",
    "            print(data.id, data.description)\n",
    "    elif key == 'format':\n",
    "        for data in value:\n",
    "            print(data.id, data.number, data.type, data.description)\n",
    "    elif key == 'alt':\n",
    "        for data in value:\n",
    "            print(data.id, data.description)\n",
    "    elif key == 'contig':\n",
    "        for data in value:\n",
    "            print(data.id, data.url, data.assembly, data.length)\n",
    "    elif key == 'other':\n",
    "        for data in value:\n",
    "            print(data.key, data.value)\n",
    "    elif key == 'samples' or key == 'fields':\n",
    "        print(value)\n"
   ]
  },
  {
   "cell_type": "markdown",
   "metadata": {},
   "source": [
    "## Writer"
   ]
  },
  {
   "cell_type": "code",
   "execution_count": null,
   "metadata": {},
   "outputs": [],
   "source": [
    "from nest.parsers.vcfReader import Reader\n",
    "from nest.parsers.vcfwriter import Writer\n",
    "vcf_reader = Reader('local/MaRS_test/SRR6463548/SRR6463548_variants_merged_annotated.vcf')\n",
    "vcf_reader.readheader()\n",
    "reader = vcf_reader.readvcf()\n",
    "writer = Writer('test.vcf')\n",
    "writer.writeHeaders(vcf_reader.header)\n",
    "for rec in reader:\n",
    "    writer.writeRecords(rec)"
   ]
  },
  {
   "cell_type": "markdown",
   "metadata": {},
   "source": [
    "## Merge"
   ]
  },
  {
   "cell_type": "code",
   "execution_count": 1,
   "metadata": {},
   "outputs": [
    {
     "name": "stdout",
     "output_type": "stream",
     "text": [
      "['local/tmp_gatk_freebayes.vcf']\n",
      "['local/tmp_samtools_freebayes.vcf']\n"
     ]
    },
    {
     "data": {
      "text/plain": [
       "['local/tmp_samtools_freebayes.vcf']"
      ]
     },
     "execution_count": 1,
     "metadata": {},
     "output_type": "execute_result"
    }
   ],
   "source": [
    "from nest.parsers.vcfmerge import Merge\n",
    "tmp_dir = 'local'\n",
    "vcf_list = ['local/MaRS_test/SRR6463548/SRR6463548_variants_samtools.vcf',  'local/MaRS_test/SRR6463548/SRR6463548_variants_gatk.vcf', 'local/MaRS_test/SRR6463548/SRR6463548_variants_freebayes.vcf']\n",
    "merger = Merge(tmp_dir)\n",
    "merger.splitter(vcf_list)"
   ]
  },
  {
   "cell_type": "code",
   "execution_count": null,
   "metadata": {},
   "outputs": [],
   "source": [
    "a = [1,2,3,4]\n",
    "if type(a) is list:\n",
    "    print(True)"
   ]
  },
  {
   "cell_type": "code",
   "execution_count": null,
   "metadata": {},
   "outputs": [],
   "source": []
  }
 ],
 "metadata": {
  "kernelspec": {
   "display_name": "Python 3",
   "language": "python",
   "name": "python3"
  },
  "language_info": {
   "codemirror_mode": {
    "name": "ipython",
    "version": 3
   },
   "file_extension": ".py",
   "mimetype": "text/x-python",
   "name": "python",
   "nbconvert_exporter": "python",
   "pygments_lexer": "ipython3",
   "version": "3.6.7"
  }
 },
 "nbformat": 4,
 "nbformat_minor": 2
}
