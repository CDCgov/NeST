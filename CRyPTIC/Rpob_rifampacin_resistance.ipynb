{
 "cells": [
  {
   "cell_type": "code",
   "execution_count": 1,
   "metadata": {},
   "outputs": [],
   "source": [
    "import csv\n",
    "import glob\n",
    "import subprocess\n",
    "import numpy as np\n",
    "import pandas as pd\n",
    "from sklearn.metrics import classification_report\n",
    "from sklearn import preprocessing"
   ]
  },
  {
   "cell_type": "markdown",
   "metadata": {},
   "source": [
    "### Extract all mutations that are known to confer resistance to rifampicin based on the NEJM data\n",
    "\n",
    "The CRyPTIC consortium paper collected a list of genotypic features that confer drug resistnace for 4 major drug across nine genes. These genotypic features were collected trhough an extensive literature survey. The list contained SNPs (synonymous and non-synonymous) and InDels. For the purpose of this study, we only considered the SNPs that were associated with susceptibility or resistance to rifampicin. There were 10 InDels that were removed. One of the records in the table from the CRyPTIC paper, indicated that any synonymous mutation in rpoB only confered susceptibility to rifampicin. Another record indicated all non-synonymous mutations between 425 and 452 confered resistance and this was left out of the variant of interest list, since this information can then be re-capitulated from the Study_novel_exonic_variants.csv table produce for each study section. There were 6 upstream coordinates that confered susceptibility and were excluded from the variant of interest. \n",
    "\n",
    "#### NeST result structure\n",
    "\n",
    "In order to anaylze the 10210 samples from the CRyPTIC consortium a HPC compatible recipe was developed for NeST and the 10000 were divided in 100 separate jobs of 100 samples each and run of the Georgia tech pace HPC framework. For each of these 100 jobs 5 summary tables were created which will be merged and used in this analysis\n",
    "\n",
    "#### Comparison of NeST variant calls with phenotypic information from the CRyPTIC study\n",
    "\n",
    "In order to compare the results from NeST against the phenotypic information from the CRyPTIC consortium:\n",
    "1. The 90 known variants (Syn and Non-syn) variants for rpoB will be extracted from Study_known_variants.csv of each of 100 job summaries, these will be merged with the phenotypic information derieved from the literature provided by the CRyPTIC consortium\n",
    "2. From the Study_novel_exonic_variants.csv all Syn mutations from the rpoB generation will be annotated as \"S\" for conferring susceptibility.\n",
    "3. From the Study_novel_exonic_variants.csv all Non-syn mutations from the rpoB gene will be annotated as \"R\" for conferring resistnace.\n",
    "\n",
    "If a sample has multiple mutations conferring either susceptibility or resistance, the sample will be marked as resistant to rifampicin.\n",
    "\n",
    "#### Estimation of precision and recall of NeST from phenotypic information\n",
    "\n",
    "Once the resistance status w.r.t to rifampicin for each of the samples has been compiled for the NeST samples. These will be compared with the phenotypic information from the CRyPTIC consortium for each sample and precision and recall will be calculated"
   ]
  },
  {
   "cell_type": "markdown",
   "metadata": {},
   "source": [
    "### Extracting all known and novel exonic rpoB mutations from NeST runs\n",
    "\n",
    "The result files from the 101 jobs that can be downloaded from:\n",
    "http://vannberg.biology.gatech.edu/data/NEJM_results.tar.gz\n",
    "\n",
    "The next section of code extracts all known and novel mutations in rpoB that was detected from the NeST result files. \n",
    "\n",
    "**NOTE** : The folder structure assumes that that NEJM_results.tar.gz was extracted in the current folder"
   ]
  },
  {
   "cell_type": "code",
   "execution_count": 2,
   "metadata": {},
   "outputs": [],
   "source": [
    "## To extract rpoB known and novel variants from the NEST results the following code can be used\n",
    "\n",
    "nest_known_variant_files = 'NEJM_tables/NEJM*/Study_known_variants.csv'\n",
    "nest_known_variant_file_list = glob.glob(nest_known_variant_files)\n",
    "nest_novel_exonic_variant_files = 'NEJM_tables/NEJM*/Study_novel_exonic_variants.csv'\n",
    "nest_novel_exonic_variant_list = glob.glob(nest_novel_exonic_variant_files)\n",
    "\n",
    "nest_known_rpob_mutations_file = 'NeST_results/NeST_rpoB_known_variants.csv'\n",
    "nest_known_rpob_mutations = open(nest_known_rpob_mutations_file, 'w')\n",
    "nest_known_rpob_mutations.write('Sample,Gene,SNP\\n')\n",
    "nest_known_rpob_mutations_full_file = 'NeST_results/NeST_rpoB_known_full_variants.csv'\n",
    "nest_known_rpob_mutations_full = open(nest_known_rpob_mutations_full_file, 'w')\n",
    "\n",
    "nest_novel_rpob_syn_mutations_file = 'NeST_results/NeST_rpoB_novel_syn_variants.csv'\n",
    "nest_novel_rpob_syn_mutations = open(nest_novel_rpob_syn_mutations_file, 'w')\n",
    "nest_novel_rpob_syn_mutations.write('Sample,Gene,SNP,Phenotype\\n')\n",
    "\n",
    "nest_novel_rpob_nsyn_mutations_file = 'NeST_results/NeST_rpoB_novel_nsyn_variants.csv'\n",
    "nest_novel_rpob_nsyn_mutations = open(nest_novel_rpob_nsyn_mutations_file, 'w')\n",
    "nest_novel_rpob_nsyn_mutations.write('Sample,Gene,SNP,Phenotype\\n')\n",
    "\n",
    "\n",
    "known_rpob = pd.DataFrame()\n",
    "#Get known rpob mutations\n",
    "for known_files in nest_known_variant_file_list:\n",
    "    known_table = open(known_files)\n",
    "    for lines in known_table:\n",
    "        lines = lines.strip().split(',')\n",
    "        if lines[3] == 'Gene':\n",
    "            nest_known_rpob_mutations_full.write('{0},{1},{2},{3},{4},{5},{6},{7},{8},{9},{10},{11},{12},{13},{14},{15},{16},{17},{18}\\n'.format(*lines))\n",
    "        if lines[3] == 'rpoB' and lines[5] != 'WT':\n",
    "            nest_known_rpob_mutations_full.write('{0},{1},{2},{3},{4},{5},{6},{7},{8},{9},{10},{11},{12},{13},{14},{15},{16},{17},{18}\\n'.format(*lines))\n",
    "            nest_known_rpob_mutations.write('{0},{1},{2}\\n'.format(lines[0], lines[3], lines[4]))\n",
    "nest_known_rpob_mutations.close()\n",
    "\n",
    "for novel_files in nest_novel_exonic_variant_list:\n",
    "    novel_reader= open(novel_files)\n",
    "    novel_table = csv.reader(novel_reader, delimiter=',', quotechar='\"')\n",
    "    for lines in novel_table:\n",
    "        if lines[12] == 'AAPos':\n",
    "            continue\n",
    "        if (lines[9] != lines[11]) and (425 <= int(lines[12]) <= 452) and (lines[3] == 'rpoB'):\n",
    "            nest_novel_rpob_nsyn_mutations.write('{0},{1},{2}{3}{4},R\\n'.format(lines[0], lines[3], lines[9], lines[12], lines[11]))\n",
    "        elif (lines[9] == lines[11]) and (lines[3] == 'rpoB'):\n",
    "            nest_novel_rpob_syn_mutations.write('{0},{1},{2}{3}{4},S\\n'.format(lines[0], lines[3],lines[9], lines[12], lines[11]))\n",
    "\n",
    "nest_novel_rpob_nsyn_mutations.close()\n",
    "nest_novel_rpob_syn_mutations.close()"
   ]
  },
  {
   "cell_type": "markdown",
   "metadata": {},
   "source": [
    "### Standardizing phenotypic information from Cryptic consortium \n",
    "\n",
    "The sample list to phenotypic information has multiple SRA numbers line or sometimes it has a biosample number rather than SRA number. This needs to be standardized\n",
    "\n",
    "Of the 10,210 samples, 1343 of the them just had BioProjects numbers and no way to associated the sample name to the SRA file. Of the remaining 8867 samples, 185 of them had multiple SRA runs associated with them, each of which were treated separately bring the total number of samples considered to 9052. From this set 463 either did not have adequete confidence in the CRyPTIC genotype preictions or did not have phenotype information and were left out, leaving us with 8586. There are 4728 samples for which NeST called a variant in rpoB"
   ]
  },
  {
   "cell_type": "code",
   "execution_count": 3,
   "metadata": {},
   "outputs": [],
   "source": [
    "var_list = pd.read_excel('CRyPTIC_tables/ResultsTableCompiled.xlsx', sheet_name='SampleListCorrected', na_values='nan')\n",
    "pheno_dict = {'Sample': [], 'Phenotype': [], 'CrypticPrediction': []}\n",
    "samp_dict = dict()\n",
    "for index, row in var_list.iterrows():\n",
    "    if pd.isnull(row['SRA']) or row['SRA'] == ' ':\n",
    "        continue\n",
    "    elif 'SAMN' in row['SRA']:\n",
    "        samtosra = subprocess.Popen('esearch -db sra -query {0} | efetch -format docsum | xtract -pattern Runs -element Run@acc'.format(row['SRA']), shell=True, stdout=subprocess.PIPE, stderr=subprocess.PIPE)\n",
    "        sraout = samtosra.communicate()[0]\n",
    "        sralist = sraout.decode('utf-8').strip().split()\n",
    "    else:\n",
    "        sralist = row['SRA'].split()        \n",
    "    for sra in sralist:\n",
    "        pheno_dict['Sample'].append(sra)\n",
    "        samp_dict[sra] = row['SRA']\n",
    "        if row['Phenotype'] == 'nan':\n",
    "            pheno_dict['Phenotype'].append(np.nan)\n",
    "        else:\n",
    "            pheno_dict['Phenotype'].append(row['Phenotype'])\n",
    "        if row['CrypticPrediction'] == 'nan':\n",
    "            pheno_dict['CrypticPrediction'].append(np.nan)\n",
    "        else:\n",
    "            pheno_dict['CrypticPrediction'].append(row['CrypticPrediction'])\n",
    "       "
   ]
  },
  {
   "cell_type": "code",
   "execution_count": 4,
   "metadata": {},
   "outputs": [],
   "source": [
    "pheno_table = pd.DataFrame(pheno_dict)\n",
    "pheno_table.sort_values(by='Sample', inplace=True)"
   ]
  },
  {
   "cell_type": "code",
   "execution_count": 5,
   "metadata": {},
   "outputs": [],
   "source": [
    "#Number of samples for phenotypic of cryptic predictions are present\n",
    "pheno_table.replace(['F', 'U'], np.nan, inplace=True)\n",
    "pheno_table.dropna(inplace=True)\n",
    "pheno_table.to_excel('Phenotypes.xlsx')"
   ]
  },
  {
   "cell_type": "markdown",
   "metadata": {},
   "source": [
    "### Combining mutation list to associated resistance"
   ]
  },
  {
   "cell_type": "code",
   "execution_count": 6,
   "metadata": {},
   "outputs": [
    {
     "data": {
      "text/html": [
       "<div>\n",
       "<style scoped>\n",
       "    .dataframe tbody tr th:only-of-type {\n",
       "        vertical-align: middle;\n",
       "    }\n",
       "\n",
       "    .dataframe tbody tr th {\n",
       "        vertical-align: top;\n",
       "    }\n",
       "\n",
       "    .dataframe thead th {\n",
       "        text-align: right;\n",
       "    }\n",
       "</style>\n",
       "<table border=\"1\" class=\"dataframe\">\n",
       "  <thead>\n",
       "    <tr style=\"text-align: right;\">\n",
       "      <th></th>\n",
       "      <th>Mutation</th>\n",
       "      <th>RifampicinSusceptibility</th>\n",
       "      <th>Gene</th>\n",
       "      <th>SNP</th>\n",
       "      <th>Variant</th>\n",
       "    </tr>\n",
       "  </thead>\n",
       "  <tbody>\n",
       "    <tr>\n",
       "      <th>0</th>\n",
       "      <td>rpoB_A-53G</td>\n",
       "      <td>S</td>\n",
       "      <td>rpoB</td>\n",
       "      <td>A-53G</td>\n",
       "      <td>rpoB:A-53G</td>\n",
       "    </tr>\n",
       "    <tr>\n",
       "      <th>1</th>\n",
       "      <td>rpoB_A334D</td>\n",
       "      <td>S</td>\n",
       "      <td>rpoB</td>\n",
       "      <td>A334D</td>\n",
       "      <td>rpoB:A334D</td>\n",
       "    </tr>\n",
       "    <tr>\n",
       "      <th>2</th>\n",
       "      <td>rpoB_A544V</td>\n",
       "      <td>S</td>\n",
       "      <td>rpoB</td>\n",
       "      <td>A544V</td>\n",
       "      <td>rpoB:A544V</td>\n",
       "    </tr>\n",
       "    <tr>\n",
       "      <th>3</th>\n",
       "      <td>rpoB_A69P</td>\n",
       "      <td>S</td>\n",
       "      <td>rpoB</td>\n",
       "      <td>A69P</td>\n",
       "      <td>rpoB:A69P</td>\n",
       "    </tr>\n",
       "    <tr>\n",
       "      <th>4</th>\n",
       "      <td>rpoB_A857T</td>\n",
       "      <td>S</td>\n",
       "      <td>rpoB</td>\n",
       "      <td>A857T</td>\n",
       "      <td>rpoB:A857T</td>\n",
       "    </tr>\n",
       "  </tbody>\n",
       "</table>\n",
       "</div>"
      ],
      "text/plain": [
       "     Mutation RifampicinSusceptibility  Gene    SNP     Variant\n",
       "0  rpoB_A-53G                        S  rpoB  A-53G  rpoB:A-53G\n",
       "1  rpoB_A334D                        S  rpoB  A334D  rpoB:A334D\n",
       "2  rpoB_A544V                        S  rpoB  A544V  rpoB:A544V\n",
       "3   rpoB_A69P                        S  rpoB   A69P   rpoB:A69P\n",
       "4  rpoB_A857T                        S  rpoB  A857T  rpoB:A857T"
      ]
     },
     "execution_count": 6,
     "metadata": {},
     "output_type": "execute_result"
    }
   ],
   "source": [
    "var_db = pd.read_excel('CRyPTIC_tables/ResultsTableCompiled.xlsx', sheet_name=\"MutationList\")\n",
    "var_db['Gene'], var_db['SNP'] = var_db['Mutation'].str.split('_',1).str\n",
    "var_db['Variant'] = var_db['Gene'] + ':' + var_db['SNP']\n",
    "var_db.head()"
   ]
  },
  {
   "cell_type": "code",
   "execution_count": 7,
   "metadata": {},
   "outputs": [],
   "source": [
    "known_variants = pd.read_csv(nest_known_rpob_mutations_full_file, header=0, sep=',')\n",
    "#known_variants = known_variants.loc[known_variants['FinalCall'] != \"WT\"]\n",
    "known_variants['Variant'] = known_variants['Gene'] + ':' + known_variants['SNP']"
   ]
  },
  {
   "cell_type": "code",
   "execution_count": 8,
   "metadata": {},
   "outputs": [],
   "source": [
    "known_variants = known_variants.merge(var_db, left_on='Variant', right_on='Variant', how='left')\n",
    "#known_variants.loc[(known_variants['Sample'] == 'ERR108473') & (known_variants['SNP_x'] == 'S430L')]\n",
    "known_variants.head()\n",
    "known_variants = known_variants[['Sample', 'Gene_x', 'SNP_x', 'RifampicinSusceptibility']]"
   ]
  },
  {
   "cell_type": "code",
   "execution_count": 9,
   "metadata": {},
   "outputs": [
    {
     "data": {
      "text/html": [
       "<div>\n",
       "<style scoped>\n",
       "    .dataframe tbody tr th:only-of-type {\n",
       "        vertical-align: middle;\n",
       "    }\n",
       "\n",
       "    .dataframe tbody tr th {\n",
       "        vertical-align: top;\n",
       "    }\n",
       "\n",
       "    .dataframe thead th {\n",
       "        text-align: right;\n",
       "    }\n",
       "</style>\n",
       "<table border=\"1\" class=\"dataframe\">\n",
       "  <thead>\n",
       "    <tr style=\"text-align: right;\">\n",
       "      <th></th>\n",
       "      <th>Sample</th>\n",
       "      <th>Gene</th>\n",
       "      <th>SNP</th>\n",
       "      <th>RifampicinSusceptibility</th>\n",
       "    </tr>\n",
       "  </thead>\n",
       "  <tbody>\n",
       "    <tr>\n",
       "      <th>0</th>\n",
       "      <td>ERR2515344</td>\n",
       "      <td>rpoB</td>\n",
       "      <td>L452P</td>\n",
       "      <td>R</td>\n",
       "    </tr>\n",
       "    <tr>\n",
       "      <th>1</th>\n",
       "      <td>ERR2515345</td>\n",
       "      <td>rpoB</td>\n",
       "      <td>S450L</td>\n",
       "      <td>R</td>\n",
       "    </tr>\n",
       "    <tr>\n",
       "      <th>2</th>\n",
       "      <td>ERR2515346</td>\n",
       "      <td>rpoB</td>\n",
       "      <td>S450L</td>\n",
       "      <td>R</td>\n",
       "    </tr>\n",
       "    <tr>\n",
       "      <th>3</th>\n",
       "      <td>ERR2515347</td>\n",
       "      <td>rpoB</td>\n",
       "      <td>H445Y</td>\n",
       "      <td>R</td>\n",
       "    </tr>\n",
       "    <tr>\n",
       "      <th>4</th>\n",
       "      <td>ERR2515348</td>\n",
       "      <td>rpoB</td>\n",
       "      <td>S450L</td>\n",
       "      <td>R</td>\n",
       "    </tr>\n",
       "  </tbody>\n",
       "</table>\n",
       "</div>"
      ],
      "text/plain": [
       "       Sample  Gene    SNP RifampicinSusceptibility\n",
       "0  ERR2515344  rpoB  L452P                        R\n",
       "1  ERR2515345  rpoB  S450L                        R\n",
       "2  ERR2515346  rpoB  S450L                        R\n",
       "3  ERR2515347  rpoB  H445Y                        R\n",
       "4  ERR2515348  rpoB  S450L                        R"
      ]
     },
     "execution_count": 9,
     "metadata": {},
     "output_type": "execute_result"
    }
   ],
   "source": [
    "known_variants = known_variants.rename(columns={'Gene_x': 'Gene', 'SNP_x': 'SNP'})\n",
    "known_variants.head()"
   ]
  },
  {
   "cell_type": "markdown",
   "metadata": {},
   "source": [
    "### Create table of novel non-synonymous variants"
   ]
  },
  {
   "cell_type": "code",
   "execution_count": 10,
   "metadata": {},
   "outputs": [
    {
     "data": {
      "text/html": [
       "<div>\n",
       "<style scoped>\n",
       "    .dataframe tbody tr th:only-of-type {\n",
       "        vertical-align: middle;\n",
       "    }\n",
       "\n",
       "    .dataframe tbody tr th {\n",
       "        vertical-align: top;\n",
       "    }\n",
       "\n",
       "    .dataframe thead th {\n",
       "        text-align: right;\n",
       "    }\n",
       "</style>\n",
       "<table border=\"1\" class=\"dataframe\">\n",
       "  <thead>\n",
       "    <tr style=\"text-align: right;\">\n",
       "      <th></th>\n",
       "      <th>Sample</th>\n",
       "      <th>Gene</th>\n",
       "      <th>SNP</th>\n",
       "      <th>RifampicinSusceptibility</th>\n",
       "    </tr>\n",
       "  </thead>\n",
       "  <tbody>\n",
       "    <tr>\n",
       "      <th>0</th>\n",
       "      <td>ERR2515382</td>\n",
       "      <td>rpoB</td>\n",
       "      <td>S441V</td>\n",
       "      <td>R</td>\n",
       "    </tr>\n",
       "    <tr>\n",
       "      <th>1</th>\n",
       "      <td>ERR2517559</td>\n",
       "      <td>rpoB</td>\n",
       "      <td>L449Q</td>\n",
       "      <td>R</td>\n",
       "    </tr>\n",
       "    <tr>\n",
       "      <th>2</th>\n",
       "      <td>ERR2517617</td>\n",
       "      <td>rpoB</td>\n",
       "      <td>L449Q</td>\n",
       "      <td>R</td>\n",
       "    </tr>\n",
       "    <tr>\n",
       "      <th>3</th>\n",
       "      <td>ERR2513382</td>\n",
       "      <td>rpoB</td>\n",
       "      <td>S441A</td>\n",
       "      <td>R</td>\n",
       "    </tr>\n",
       "    <tr>\n",
       "      <th>4</th>\n",
       "      <td>ERR2513382</td>\n",
       "      <td>rpoB</td>\n",
       "      <td>G442E</td>\n",
       "      <td>R</td>\n",
       "    </tr>\n",
       "  </tbody>\n",
       "</table>\n",
       "</div>"
      ],
      "text/plain": [
       "       Sample  Gene    SNP RifampicinSusceptibility\n",
       "0  ERR2515382  rpoB  S441V                        R\n",
       "1  ERR2517559  rpoB  L449Q                        R\n",
       "2  ERR2517617  rpoB  L449Q                        R\n",
       "3  ERR2513382  rpoB  S441A                        R\n",
       "4  ERR2513382  rpoB  G442E                        R"
      ]
     },
     "execution_count": 10,
     "metadata": {},
     "output_type": "execute_result"
    }
   ],
   "source": [
    "nsyn_variants = pd.read_csv(nest_novel_rpob_nsyn_mutations_file, header=0, sep=',')\n",
    "nsyn_variants.columns = ['Sample', 'Gene', 'SNP', 'RifampicinSusceptibility']\n",
    "nsyn_variants.head()"
   ]
  },
  {
   "cell_type": "markdown",
   "metadata": {},
   "source": [
    "### Create table of novel synonymous variants"
   ]
  },
  {
   "cell_type": "code",
   "execution_count": 11,
   "metadata": {},
   "outputs": [
    {
     "data": {
      "text/html": [
       "<div>\n",
       "<style scoped>\n",
       "    .dataframe tbody tr th:only-of-type {\n",
       "        vertical-align: middle;\n",
       "    }\n",
       "\n",
       "    .dataframe tbody tr th {\n",
       "        vertical-align: top;\n",
       "    }\n",
       "\n",
       "    .dataframe thead th {\n",
       "        text-align: right;\n",
       "    }\n",
       "</style>\n",
       "<table border=\"1\" class=\"dataframe\">\n",
       "  <thead>\n",
       "    <tr style=\"text-align: right;\">\n",
       "      <th></th>\n",
       "      <th>Sample</th>\n",
       "      <th>Gene</th>\n",
       "      <th>SNP</th>\n",
       "      <th>RifampicinSusceptibility</th>\n",
       "    </tr>\n",
       "  </thead>\n",
       "  <tbody>\n",
       "    <tr>\n",
       "      <th>0</th>\n",
       "      <td>ERR2515348</td>\n",
       "      <td>rpoB</td>\n",
       "      <td>A1075A</td>\n",
       "      <td>S</td>\n",
       "    </tr>\n",
       "    <tr>\n",
       "      <th>1</th>\n",
       "      <td>ERR2515355</td>\n",
       "      <td>rpoB</td>\n",
       "      <td>D103D</td>\n",
       "      <td>S</td>\n",
       "    </tr>\n",
       "    <tr>\n",
       "      <th>2</th>\n",
       "      <td>ERR2515359</td>\n",
       "      <td>rpoB</td>\n",
       "      <td>D103D</td>\n",
       "      <td>S</td>\n",
       "    </tr>\n",
       "    <tr>\n",
       "      <th>3</th>\n",
       "      <td>ERR2515360</td>\n",
       "      <td>rpoB</td>\n",
       "      <td>A1075A</td>\n",
       "      <td>S</td>\n",
       "    </tr>\n",
       "    <tr>\n",
       "      <th>4</th>\n",
       "      <td>ERR2515361</td>\n",
       "      <td>rpoB</td>\n",
       "      <td>D103D</td>\n",
       "      <td>S</td>\n",
       "    </tr>\n",
       "  </tbody>\n",
       "</table>\n",
       "</div>"
      ],
      "text/plain": [
       "       Sample  Gene     SNP RifampicinSusceptibility\n",
       "0  ERR2515348  rpoB  A1075A                        S\n",
       "1  ERR2515355  rpoB   D103D                        S\n",
       "2  ERR2515359  rpoB   D103D                        S\n",
       "3  ERR2515360  rpoB  A1075A                        S\n",
       "4  ERR2515361  rpoB   D103D                        S"
      ]
     },
     "execution_count": 11,
     "metadata": {},
     "output_type": "execute_result"
    }
   ],
   "source": [
    "syn_variants = pd.read_csv(nest_novel_rpob_syn_mutations_file, header=0, sep=',')\n",
    "syn_variants.columns = ['Sample', 'Gene', 'SNP', 'RifampicinSusceptibility']\n",
    "syn_variants.head()"
   ]
  },
  {
   "cell_type": "markdown",
   "metadata": {},
   "source": [
    "### Merge all variant tables from NeST runs"
   ]
  },
  {
   "cell_type": "code",
   "execution_count": 12,
   "metadata": {},
   "outputs": [],
   "source": [
    "final_table = known_variants.copy()\n",
    "final_table = final_table.append(nsyn_variants)\n",
    "final_table = final_table.append(syn_variants)\n",
    "final_table.sort_values(by='Sample', inplace=True)\n",
    "final_table.drop_duplicates(subset=['Sample', 'Gene'], inplace=True)\n",
    "final_table = final_table[['Sample', 'RifampicinSusceptibility']]\n",
    "final_table.reset_index(drop=True,inplace=True)"
   ]
  },
  {
   "cell_type": "markdown",
   "metadata": {},
   "source": [
    "### Compile Phenotypes, predictions and susceptibility calls"
   ]
  },
  {
   "cell_type": "code",
   "execution_count": 13,
   "metadata": {
    "scrolled": true
   },
   "outputs": [
    {
     "data": {
      "text/html": [
       "<div>\n",
       "<style scoped>\n",
       "    .dataframe tbody tr th:only-of-type {\n",
       "        vertical-align: middle;\n",
       "    }\n",
       "\n",
       "    .dataframe tbody tr th {\n",
       "        vertical-align: top;\n",
       "    }\n",
       "\n",
       "    .dataframe thead th {\n",
       "        text-align: right;\n",
       "    }\n",
       "</style>\n",
       "<table border=\"1\" class=\"dataframe\">\n",
       "  <thead>\n",
       "    <tr style=\"text-align: right;\">\n",
       "      <th></th>\n",
       "      <th>Sample</th>\n",
       "      <th>NeSTPrediction</th>\n",
       "    </tr>\n",
       "  </thead>\n",
       "  <tbody>\n",
       "    <tr>\n",
       "      <th>0</th>\n",
       "      <td>ERR067576</td>\n",
       "      <td>R</td>\n",
       "    </tr>\n",
       "    <tr>\n",
       "      <th>1</th>\n",
       "      <td>ERR067577</td>\n",
       "      <td>R</td>\n",
       "    </tr>\n",
       "    <tr>\n",
       "      <th>2</th>\n",
       "      <td>ERR067578</td>\n",
       "      <td>R</td>\n",
       "    </tr>\n",
       "    <tr>\n",
       "      <th>3</th>\n",
       "      <td>ERR067581</td>\n",
       "      <td>R</td>\n",
       "    </tr>\n",
       "    <tr>\n",
       "      <th>4</th>\n",
       "      <td>ERR067583</td>\n",
       "      <td>R</td>\n",
       "    </tr>\n",
       "  </tbody>\n",
       "</table>\n",
       "</div>"
      ],
      "text/plain": [
       "      Sample NeSTPrediction\n",
       "0  ERR067576              R\n",
       "1  ERR067577              R\n",
       "2  ERR067578              R\n",
       "3  ERR067581              R\n",
       "4  ERR067583              R"
      ]
     },
     "execution_count": 13,
     "metadata": {},
     "output_type": "execute_result"
    }
   ],
   "source": [
    "final_table = final_table.rename(columns={'RifampicinSusceptibility': 'NeSTPrediction'})\n",
    "final_table.head()"
   ]
  },
  {
   "cell_type": "code",
   "execution_count": 14,
   "metadata": {},
   "outputs": [],
   "source": [
    "pheno_table.reset_index(drop=True, inplace=True)"
   ]
  },
  {
   "cell_type": "code",
   "execution_count": 15,
   "metadata": {
    "scrolled": true
   },
   "outputs": [
    {
     "data": {
      "text/html": [
       "<div>\n",
       "<style scoped>\n",
       "    .dataframe tbody tr th:only-of-type {\n",
       "        vertical-align: middle;\n",
       "    }\n",
       "\n",
       "    .dataframe tbody tr th {\n",
       "        vertical-align: top;\n",
       "    }\n",
       "\n",
       "    .dataframe thead th {\n",
       "        text-align: right;\n",
       "    }\n",
       "</style>\n",
       "<table border=\"1\" class=\"dataframe\">\n",
       "  <thead>\n",
       "    <tr style=\"text-align: right;\">\n",
       "      <th></th>\n",
       "      <th>CrypticPrediction</th>\n",
       "      <th>Phenotype</th>\n",
       "      <th>Sample</th>\n",
       "      <th>NeSTPrediction</th>\n",
       "    </tr>\n",
       "  </thead>\n",
       "  <tbody>\n",
       "    <tr>\n",
       "      <th>0</th>\n",
       "      <td>R</td>\n",
       "      <td>R</td>\n",
       "      <td>ERR067576</td>\n",
       "      <td>R</td>\n",
       "    </tr>\n",
       "    <tr>\n",
       "      <th>1</th>\n",
       "      <td>R</td>\n",
       "      <td>R</td>\n",
       "      <td>ERR067577</td>\n",
       "      <td>R</td>\n",
       "    </tr>\n",
       "    <tr>\n",
       "      <th>2</th>\n",
       "      <td>R</td>\n",
       "      <td>R</td>\n",
       "      <td>ERR067578</td>\n",
       "      <td>R</td>\n",
       "    </tr>\n",
       "    <tr>\n",
       "      <th>3</th>\n",
       "      <td>S</td>\n",
       "      <td>S</td>\n",
       "      <td>ERR067580</td>\n",
       "      <td>S</td>\n",
       "    </tr>\n",
       "    <tr>\n",
       "      <th>4</th>\n",
       "      <td>R</td>\n",
       "      <td>R</td>\n",
       "      <td>ERR067581</td>\n",
       "      <td>R</td>\n",
       "    </tr>\n",
       "  </tbody>\n",
       "</table>\n",
       "</div>"
      ],
      "text/plain": [
       "  CrypticPrediction Phenotype     Sample NeSTPrediction\n",
       "0                 R         R  ERR067576              R\n",
       "1                 R         R  ERR067577              R\n",
       "2                 R         R  ERR067578              R\n",
       "3                 S         S  ERR067580              S\n",
       "4                 R         R  ERR067581              R"
      ]
     },
     "execution_count": 15,
     "metadata": {},
     "output_type": "execute_result"
    }
   ],
   "source": [
    "prediction_table = pheno_table.merge(final_table, left_on='Sample', right_on='Sample', how='left')\n",
    "values = {'NeSTPrediction' : 'S'}\n",
    "prediction_table.fillna(value=values, inplace=True)\n",
    "prediction_table.dropna(inplace=True)\n",
    "prediction_table.head()"
   ]
  },
  {
   "cell_type": "code",
   "execution_count": 16,
   "metadata": {},
   "outputs": [],
   "source": [
    "pred_table = prediction_table.replace(['R', 'S'], [1, 0])\n",
    "pred_table.to_csv('Predictions.csv', index=False)\n",
    "## R code to visualize the set intersections\n",
    "# preds <- read.csv('Predictions.csv', header=T, sep=\",\")\n",
    "# upset(preds, sets = c(\"CrypticPrediction\", \"Phenotype\", \"NeSTPrediction\"), mb.ratio = c(0.55,0.45), order.by = \"degree\", sets.bar.color = \"#56B4E9\")"
   ]
  },
  {
   "cell_type": "code",
   "execution_count": 17,
   "metadata": {
    "scrolled": true
   },
   "outputs": [
    {
     "name": "stdout",
     "output_type": "stream",
     "text": [
      "              precision    recall  f1-score   support\n",
      "\n",
      "   Resistant       0.97      0.88      0.92      2844\n",
      " Susceptible       0.94      0.98      0.96      5743\n",
      "\n",
      "   micro avg       0.95      0.95      0.95      8587\n",
      "   macro avg       0.95      0.93      0.94      8587\n",
      "weighted avg       0.95      0.95      0.95      8587\n",
      "\n",
      "              precision    recall  f1-score   support\n",
      "\n",
      "   Resistant       0.97      0.98      0.97      2844\n",
      " Susceptible       0.99      0.99      0.99      5743\n",
      "\n",
      "   micro avg       0.98      0.98      0.98      8587\n",
      "   macro avg       0.98      0.98      0.98      8587\n",
      "weighted avg       0.98      0.98      0.98      8587\n",
      "\n",
      "              precision    recall  f1-score   support\n",
      "\n",
      "   Resistant       0.99      0.90      0.95      2857\n",
      " Susceptible       0.95      1.00      0.97      5730\n",
      "\n",
      "   micro avg       0.97      0.97      0.97      8587\n",
      "   macro avg       0.97      0.95      0.96      8587\n",
      "weighted avg       0.97      0.97      0.96      8587\n",
      "\n"
     ]
    }
   ],
   "source": [
    "nest = prediction_table['NeSTPrediction']\n",
    "truth = prediction_table['Phenotype']\n",
    "target_name = [\"Resistant\", \"Susceptible\"]\n",
    "print(classification_report(truth, nest, target_names=target_name))\n",
    "\n",
    "#cryptic_table = prediction_table[['CrypticPrediction', 'Phenotype']].replace(['F','U'], np.nan).dropna()\n",
    "cryptic = prediction_table['CrypticPrediction']\n",
    "target_name = [\"Resistant\", \"Susceptible\"]\n",
    "print(classification_report(truth, cryptic, target_names=target_name))\n",
    "\n",
    "cryptic = prediction_table['CrypticPrediction']\n",
    "target_name = [\"Resistant\", \"Susceptible\"]\n",
    "print(classification_report(cryptic, nest, target_names=target_name))\n",
    "\n",
    "#print(classification_report(cryptic, nest, target_names=target_name))"
   ]
  },
  {
   "cell_type": "markdown",
   "metadata": {},
   "source": [
    "This research was supported in part through research cyberinfrastructure resources and services provided by the Partnership for an Advanced Computing Environment (PACE) at the Georgia Institute of Technology, Atlanta, Georgia, USA."
   ]
  },
  {
   "cell_type": "code",
   "execution_count": null,
   "metadata": {},
   "outputs": [],
   "source": []
  }
 ],
 "metadata": {
  "kernelspec": {
   "display_name": "Python 3",
   "language": "python",
   "name": "python3"
  },
  "language_info": {
   "codemirror_mode": {
    "name": "ipython",
    "version": 3
   },
   "file_extension": ".py",
   "mimetype": "text/x-python",
   "name": "python",
   "nbconvert_exporter": "python",
   "pygments_lexer": "ipython3",
   "version": "3.6.3"
  }
 },
 "nbformat": 4,
 "nbformat_minor": 2
}
