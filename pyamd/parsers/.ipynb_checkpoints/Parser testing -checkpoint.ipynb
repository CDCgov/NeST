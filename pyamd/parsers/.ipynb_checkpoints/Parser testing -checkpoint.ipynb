{
 "cells": [
  {
   "cell_type": "code",
   "execution_count": 1,
   "metadata": {},
   "outputs": [],
   "source": [
    "from bed import Bed\n",
    "from fasta import Fasta\n",
    "from vcf import Vcf"
   ]
  },
  {
   "cell_type": "code",
   "execution_count": null,
   "metadata": {},
   "outputs": [],
   "source": [
    "bed = Bed('mdr.bed')"
   ]
  },
  {
   "cell_type": "code",
   "execution_count": null,
   "metadata": {},
   "outputs": [],
   "source": [
    "coding_seq = bed.getCodingFasta('mdr.fa')"
   ]
  },
  {
   "cell_type": "code",
   "execution_count": null,
   "metadata": {},
   "outputs": [],
   "source": [
    "out_file = open('kcoding_fasta.fa','w')\n",
    "for records in coding_seq:\n",
    "    print(records.chrom)\n",
    "    out_file.write('>{0}\\n{1}\\n'.format(records.chrom, records.seq))\n",
    "out_file.close()\n",
    "a = 'ATGAAATTCGCAAGTAAAAAAAATAATCAAAAAAATTCAAGCAAAAATGACGAGCGTTATAGAGAATTAGATAATTTAGTACAAGAAGGAAATGGCTCACGTTTAGGTGGAGGTTCTTGTCTTGGTAAATGTGCTCATGTGTTTAAACTTATTTTTAAAGAGATTAAGGATAATATTTTTATTTATATTTTAAGTATTATTTATTTAAGTGTATGTGTAATGAATAAAATTTTTGCTAAAAGAACTTTAAACAAAATTGGTAACTATAGTTTTGTAACATCCGAAACTCACAACTTTATTTGTATGATTATGTTCTTTATTGTTTATTCCTTATTTGGAAATAAAAAGGGAAATTCAAAAGAACGACACCGAAGCTTTAATTTACAATTTTTTGCTATATCCATGTTAGATGCCTGTTCAGTCATTTTGGCCTTCATAGGTCTTACAAGAACTACTGGAAATATCCAATCATTTGTTCTTCAATTAAGTATTCCTATTAATATGTTCTTCTGCTTTTTAATATTAAGATATAGATATCACTTATACAATTATCTCGGAGCAGTTATTATTGTTGTAACAATAGCTCTTGTAGAAATGAAATTATCTTTTGAAACACAAGAAGAAAATTCTATCATATTTAATCTTGTCTTAATTAGTGCCTTAATTCCTGTATGCTTTTCAAACATGACAAGGGAAATAGTTTTTAAAAAATATAAGATTGACATTTTAAGATTAAATGCTATGGTATCCTTTTTCCAATTGTTCACTTCTTGTCTTATATTACCTGTATACACCCTTCCATTTTTAAAACAACTTCATTTACCATATAATGAAATATGGACAAATATAAAAAATGGTTTCGCATGTTTATTCTTGGGAAGAAACACAGTCGTAGAGAATTGTGGTCTTGGTATGGCTAAGTTATGTGATGATTGTGACGGAGCATGGAAAACCTTCGCATTGTTTTCCTTCTTTAACATTTGTGATAATTTAATAACCAGCTATATTATCGACAAATTTTCTACCATGACATATACTATTGTTAGTTGTATACAAGGTCCAGCAATAGCAATTGCTTATTACTTTAAATTCTTAGCCGGTGATGTTGTAAGAGAACCAAGATTATTAGATTTCGTAACTTTGTTTGGCTACCTATTTGGTTCTATAATTTACCGTGTAGGAAATATTATCTTAGAAAGAAAAAAAATGAGAAATGAAGAAAATGAAGATTCCGAAGGAGAATTAACCAACGTCGATTCAATTATTACACAATAA'"
   ]
  },
  {
   "cell_type": "code",
   "execution_count": null,
   "metadata": {},
   "outputs": [],
   "source": [
    "%tb"
   ]
  },
  {
   "cell_type": "code",
   "execution_count": null,
   "metadata": {},
   "outputs": [],
   "source": [
    "bcoding = Fasta('bcoding_fasta.fa').read()\n",
    "kcoding = Fasta('kcoding_fasta.fa').read()\n",
    "bdict = {val.header: val.seq for val in bcoding}\n",
    "crt3 = ''\n",
    "kdict = {val.header: val.seq for val in kcoding}\n",
    "for val in bdict:\n",
    "    if val == 'PfDHPS' and bdict[val][:-2] == kdict[val]:\n",
    "        print(val, True)\n",
    "    elif kdict[val] == bdict[val]:\n",
    "        print(val,True, len(kdict[val]), len(bdict[val]))\n",
    "    else:\n",
    "        print(val, False, len(kdict[val]), len(bdict[val]))\n",
    "    if val == 'PfCRT' and kdict[val] == a:\n",
    "        crt3 = kdict[val]\n",
    "        print(val, True, len(kdict[val]), len(a))\n",
    "    elif val == 'PfCRT':\n",
    "        crt3 = kdict[val]\n",
    "        "
   ]
  },
  {
   "cell_type": "code",
   "execution_count": 2,
   "metadata": {},
   "outputs": [],
   "source": [
    "annotater = Vcf.Annotate()"
   ]
  },
  {
   "cell_type": "code",
   "execution_count": 3,
   "metadata": {},
   "outputs": [],
   "source": [
    "codons = annotater.getCodon('mdr.bed', '16-023_S126_variants_gatk.vcf', 'mdr.fa')"
   ]
  },
  {
   "cell_type": "code",
   "execution_count": 4,
   "metadata": {},
   "outputs": [
    {
     "ename": "AttributeError",
     "evalue": "'function' object has no attribute 'vcf'",
     "output_type": "error",
     "traceback": [
      "\u001b[0;31m---------------------------------------------------------------------------\u001b[0m",
      "\u001b[0;31mAttributeError\u001b[0m                            Traceback (most recent call last)",
      "\u001b[0;32m<ipython-input-4-70766d5a99d4>\u001b[0m in \u001b[0;36m<module>\u001b[0;34m()\u001b[0m\n\u001b[0;32m----> 1\u001b[0;31m \u001b[0mvcf_writer\u001b[0m \u001b[0;34m=\u001b[0m \u001b[0mVcf\u001b[0m\u001b[0;34m.\u001b[0m\u001b[0mWriter\u001b[0m\u001b[0;34m(\u001b[0m\u001b[0mannotater\u001b[0m\u001b[0;34m.\u001b[0m\u001b[0mgetCodon\u001b[0m\u001b[0;34m.\u001b[0m\u001b[0mvcf\u001b[0m\u001b[0;34m,\u001b[0m \u001b[0;34m'test.vcf'\u001b[0m\u001b[0;34m)\u001b[0m\u001b[0;34m\u001b[0m\u001b[0m\n\u001b[0m\u001b[1;32m      2\u001b[0m \u001b[0mvcf_writer\u001b[0m\u001b[0;34m.\u001b[0m\u001b[0mwriteHeaders\u001b[0m\u001b[0;34m(\u001b[0m\u001b[0;34m)\u001b[0m\u001b[0;34m\u001b[0m\u001b[0m\n\u001b[1;32m      3\u001b[0m \u001b[0mvcf_writer\u001b[0m\u001b[0;34m.\u001b[0m\u001b[0mwriteRecords\u001b[0m\u001b[0;34m(\u001b[0m\u001b[0;34m)\u001b[0m\u001b[0;34m\u001b[0m\u001b[0m\n",
      "\u001b[0;31mAttributeError\u001b[0m: 'function' object has no attribute 'vcf'"
     ]
    }
   ],
   "source": [
    "vcf_writer = Vcf.Writer(annotater.vcf, 'test.vcf')\n",
    "vcf_writer.writeHeaders()\n",
    "vcf_writer.writeRecords()"
   ]
  },
  {
   "cell_type": "code",
   "execution_count": null,
   "metadata": {},
   "outputs": [],
   "source": [
    "vcf = Vcf.Reader('16-001_S22_variants_gatk.vcf')\n",
    "vcf_writer = Vcf.Writer(vcf, 'test.vcf')\n",
    "vcf_writer.writeHeaders()\n",
    "vcf_writer.writeRecords()\n"
   ]
  },
  {
   "cell_type": "code",
   "execution_count": null,
   "metadata": {},
   "outputs": [],
   "source": [
    "pfcrt.chrom"
   ]
  },
  {
   "cell_type": "code",
   "execution_count": null,
   "metadata": {},
   "outputs": [],
   "source": [
    "pfcrt.seq[221:224]"
   ]
  },
  {
   "cell_type": "code",
   "execution_count": null,
   "metadata": {},
   "outputs": [],
   "source": []
  }
 ],
 "metadata": {
  "kernelspec": {
   "display_name": "Python 3",
   "language": "python",
   "name": "python3"
  },
  "language_info": {
   "codemirror_mode": {
    "name": "ipython",
    "version": 3
   },
   "file_extension": ".py",
   "mimetype": "text/x-python",
   "name": "python",
   "nbconvert_exporter": "python",
   "pygments_lexer": "ipython3",
   "version": "3.5.4"
  }
 },
 "nbformat": 4,
 "nbformat_minor": 2
}
